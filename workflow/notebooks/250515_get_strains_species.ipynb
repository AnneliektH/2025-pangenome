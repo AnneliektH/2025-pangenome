{
 "cells": [
  {
   "cell_type": "markdown",
   "id": "37897c87",
   "metadata": {},
   "source": [
    "### Count number of rep species in gtdb tax files\n",
    "- I would like to know, for several dbs, how many species/strains are there in there, that we can use for a pangenome. \n",
    "- Both for gtdb and for refseq. \n"
   ]
  },
  {
   "cell_type": "code",
   "execution_count": null,
   "id": "0ebb72fb",
   "metadata": {
    "vscode": {
     "languageId": "shellscript"
    }
   },
   "outputs": [],
   "source": [
    "# link tax file to resources\n",
    "# gtbd\n",
    "ln -s /group/ctbrowngrp/sourmash-db/gtdb-rs226/gtdb-rs226.lineages.csv .\n",
    "\n",
    "# refseq:\n",
    "/group/ctbrowngrp/sourmash-db/genbank-2025.04/lineages.bacteria.csv"
   ]
  },
  {
   "cell_type": "code",
   "execution_count": null,
   "id": "6109a7b4",
   "metadata": {
    "vscode": {
     "languageId": "shellscript"
    }
   },
   "outputs": [],
   "source": [
    "# count\n",
    "\n",
    "while read -r word; do\n",
    "  count=$(grep -c -F \"$word\" ../../resources/gtdb-rs226.lineages.csv)\n",
    "  echo \"$word,$count\"\n",
    "done < species.txt > gtdb-rs226_species_counts.csv\n",
    "\n",
    "while read -r word; do\n",
    "  count=$(grep -c -F \"$word\" ../../resources/lineages.bacteria.csv)\n",
    "  echo \"$word,$count\"\n",
    "done < species.txt > genbank-202504_counts.csv"
   ]
  }
 ],
 "metadata": {
  "language_info": {
   "name": "python"
  }
 },
 "nbformat": 4,
 "nbformat_minor": 5
}
