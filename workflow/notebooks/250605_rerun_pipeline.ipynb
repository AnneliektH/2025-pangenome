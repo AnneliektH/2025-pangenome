{
 "cells": [
  {
   "cell_type": "markdown",
   "id": "a1df6eca",
   "metadata": {},
   "source": [
    "### Rerunning pipeline in pieces\n",
    "For: Bariatricus sp004560705. Only 16 genomes. \n",
    "Oliverpabstia intestinalis\n",
    "Give coltons a look: he uses the tax ID.. Soo how\n"
   ]
  },
  {
   "cell_type": "code",
   "execution_count": null,
   "id": "2e4a91f0",
   "metadata": {
    "vscode": {
     "languageId": "shellscript"
    }
   },
   "outputs": [],
   "source": [
    "# srun\n",
    "srun --account=ctbrowngrp -p med2 -J gather -t 3:00:00 -c 30 --mem=60gb --pty bash\n",
    "mamba activate branchwater-skipmer"
   ]
  },
  {
   "cell_type": "code",
   "execution_count": null,
   "id": "cfdac2e7",
   "metadata": {
    "vscode": {
     "languageId": "shellscript"
    }
   },
   "outputs": [],
   "source": [
    "# 1. Collect the genomes (done in seconds)\n",
    "snakemake --use-conda --resources mem_mb=120000 --rerun-triggers mtime \\\n",
    "-c 20 --rerun-incomplete -k -s  snakefile_wip/1.collect_genomes.smk -n"
   ]
  },
  {
   "cell_type": "code",
   "execution_count": null,
   "id": "0d33eefe",
   "metadata": {
    "vscode": {
     "languageId": "shellscript"
    }
   },
   "outputs": [],
   "source": [
    "# 2. Run prokka and drep\n",
    "snakemake --use-conda --resources mem_mb=120000 --rerun-triggers mtime \\\n",
    "-c 20 --rerun-incomplete -k -s  snakefile_wip/2.prokka.smk  -n\n",
    "\n",
    "# also want to try without dereplicating (comment out the drep rule in the snakefile)\n",
    "snakemake --use-conda --resources mem_mb=120000 --rerun-triggers mtime \\\n",
    "-c 20 --rerun-incomplete -k -s  snakefile_wip/2.prokka.smk  -n"
   ]
  },
  {
   "cell_type": "code",
   "execution_count": null,
   "id": "f70a1859",
   "metadata": {
    "vscode": {
     "languageId": "shellscript"
    }
   },
   "outputs": [],
   "source": [
    "# 3. Symlink the prokka output (not needed if no drep)\n",
    "snakemake --use-conda --resources mem_mb=120000 --rerun-triggers mtime \\\n",
    "-c 20 --rerun-incomplete -k -s  snakefile_wip/3.sl_prokka.smk -n"
   ]
  },
  {
   "cell_type": "code",
   "execution_count": null,
   "id": "21d3f8d8",
   "metadata": {
    "vscode": {
     "languageId": "shellscript"
    }
   },
   "outputs": [],
   "source": [
    "# 4. Run roary snakemake \n",
    "snakemake --use-conda --resources mem_mb=120000 --rerun-triggers mtime \\\n",
    "-c 20 --rerun-incomplete -k -s  snakefile_wip/4.roary.smk \n",
    "\n",
    "# 4a. Run roary snakemake with no drep\n",
    "snakemake --use-conda --resources mem_mb=60000 --rerun-triggers mtime \\\n",
    "-c 30 --rerun-incomplete -k -s  snakefile_wip/4a.roary.smk "
   ]
  },
  {
   "cell_type": "code",
   "execution_count": null,
   "id": "a6cd4b13",
   "metadata": {
    "vscode": {
     "languageId": "shellscript"
    }
   },
   "outputs": [],
   "source": [
    "# 5. Run genes to hashes (add shell as well), no cloud for reference strains??\n",
    "snakemake --use-conda --resources mem_mb=120000 --rerun-triggers mtime \\\n",
    "-c 30 --rerun-incomplete -k -s  snakefile_wip/5.genes_to_hash.smk "
   ]
  },
  {
   "cell_type": "code",
   "execution_count": null,
   "id": "53092c3b",
   "metadata": {
    "vscode": {
     "languageId": "shellscript"
    }
   },
   "outputs": [],
   "source": [
    "# 6. Convert the fasta files to hashes, and predict proteins for hashes\n",
    "snakemake --use-conda --resources mem_mb=120000 --rerun-triggers mtime \\\n",
    "-c 20 --rerun-incomplete -k -s  snakefile_wip/6.genes_toprotein.smk "
   ]
  },
  {
   "cell_type": "code",
   "execution_count": null,
   "id": "f6886ae8",
   "metadata": {
    "vscode": {
     "languageId": "shellscript"
    }
   },
   "outputs": [],
   "source": [
    "# 7. Run against the metagenomes\n",
    "snakemake --use-conda --resources mem_mb=120000 --rerun-triggers mtime \\\n",
    "-c 20 --rerun-incomplete -k -s  7.compare_pang_to_metag.smk "
   ]
  },
  {
   "cell_type": "code",
   "execution_count": null,
   "id": "9637eaaf",
   "metadata": {
    "vscode": {
     "languageId": "shellscript"
    }
   },
   "outputs": [],
   "source": [
    "# want to try a couple more metags\n",
    "srun --account=ctbrowngrp -p med2 -J sketchprot -t 2:00:00 -c 24 --mem=120gb --pty bash\n",
    "mamba activate branchwater-skipmer\n",
    "\n",
    "snakemake --use-conda --resources mem_mb=120000 --rerun-triggers mtime \\\n",
    "-c 24 --rerun-incomplete -k -s download_sketch_reads.smk"
   ]
  }
 ],
 "metadata": {
  "language_info": {
   "name": "python"
  }
 },
 "nbformat": 4,
 "nbformat_minor": 5
}
