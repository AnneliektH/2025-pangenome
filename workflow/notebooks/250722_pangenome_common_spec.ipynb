{
 "cells": [
  {
   "cell_type": "markdown",
   "id": "427fb73a",
   "metadata": {},
   "source": [
    "## For species that are recoverred and assembled multiple times, what does the pangenome look like? What happens to it if we dereplicate\n",
    "- Create pangenomes for 5 species using roary\n",
    "- Look at genes that are core / cloud etc.\n",
    "- Does dereplication remove these genes? If so how many?\n",
    "- Cross with metagenomes  \n",
    "\n",
    "\n",
    "From pig, species that were recovered most times:\n",
    "- Lactobacillus amylovorus x\n",
    "- Limosilactobacillus reuteri x\n",
    "- Sodaliphilus sp004557565\n",
    "- Bariatricus sp004560705\n",
    "- Prevotella sp002251295\n",
    "- Gemmiger qucibialis\n",
    "- Floccifex porci\n",
    "- Holdemanella porci\n",
    "\n",
    "These species also have a variety of different strains in the pig mags. "
   ]
  },
  {
   "cell_type": "markdown",
   "id": "e45637ca",
   "metadata": {},
   "source": [
    "## For the comparing to metaGs, we need the dereplicated genes as well. \n",
    "- We have what genes are left if we dereplicate: How to use that? Ill do it by hand first, making a file for it"
   ]
  },
  {
   "cell_type": "code",
   "execution_count": null,
   "id": "b4206233",
   "metadata": {
    "vscode": {
     "languageId": "shellscript"
    }
   },
   "outputs": [],
   "source": [
    "# so for each fasta file we need to subset it..\n",
    "# subset_drep_genes.smk\n",
    "\n",
    "# genes to rankt also already works\n"
   ]
  },
  {
   "cell_type": "code",
   "execution_count": null,
   "id": "56497211",
   "metadata": {
    "vscode": {
     "languageId": "shellscript"
    }
   },
   "outputs": [],
   "source": [
    "# srun\n",
    "srun --account=ctbrowngrp -p bmh -J pan -t 2:00:00 -c 2 --mem=20gb --pty bash\n",
    "mamba activate branchwater-skipmer\n",
    "\n",
    "srun --account=ctbrowngrp -p bmh -J pan -t 1:00:00 -c 32 --mem=60gb --pty bash\n",
    "srun --account=ctbrowngrp -p med2 -J panr -t 3:00:00 -c 32 --mem=60gb --pty bash\n",
    "\n"
   ]
  },
  {
   "cell_type": "code",
   "execution_count": null,
   "id": "4ef5f1ad",
   "metadata": {
    "vscode": {
     "languageId": "shellscript"
    }
   },
   "outputs": [],
   "source": [
    "# do some retries and a couple of genomes at a time for gbsketch\n",
    "snakemake --use-conda --resources mem_mb=20000 --rerun-triggers mtime \\\n",
    "-c 2 --rerun-incomplete -k -s  snakefile_wip/1.collect_genomes.smk \\\n",
    "\n",
    "--config pang_org=\"Bariatricus sp004560705\" pang_folder=\"bariatricus_sp004560705\" -n\n",
    "--config pang_org=\"Sodaliphilus sp004557565\" pang_folder=\"sodaliphilus_sp004557565\" -n\n",
    "--config pang_org=\"Gemmiger qucibialis\" pang_folder=\"g_qucibialis\" -n\n",
    "--config pang_org=\"Holdemanella porci\" pang_folder=\"h_porci\" -n\n",
    "--config pang_org=\"Floccifex porci\" pang_folder=\"f_porci\" -n\n",
    "--config pang_folder=\"prevotella_sp002251295\" -n\n",
    "pang_folder=\"VUNA01_sp002299625\" -n\n",
    "pang_folder=\"dysos_sp004558115\" -n\n",
    "pang_folder=\"fimisoma_sp002320005\" -n\n",
    "pang_folder=\"prevotella_sp002251295\" -n\n",
    "pang_folder=\"crypto_sp004552115\" -n\n",
    "\n",
    "pang_folder=\"collinsella_sp002391315\" -n\n",
    "\n",
    "# not in gtdb\n",
    "--config pang_org=\"Cryptobacteroides sp004552115\" pang_folder=\"crypto_sp004552115\" -n\n",
    "Dysosmobacter sp004558115\n",
    "VUNA01_sp002299625\n",
    "\n"
   ]
  },
  {
   "cell_type": "code",
   "execution_count": null,
   "id": "aba7a1a5",
   "metadata": {
    "vscode": {
     "languageId": "shellscript"
    }
   },
   "outputs": [],
   "source": [
    "# 2. Run prokka \n",
    "snakemake --use-conda --resources mem_mb=80000 --rerun-triggers mtime \\\n",
    "-c 32 --rerun-incomplete -k -s  snakefile_wip/2.prokka.smk  -n\n",
    "\n",
    "\n",
    "snakemake --use-conda --resources mem_mb=80000 --rerun-triggers mtime \\\n",
    "-c 32 --rerun-incomplete -k -s  snakefile_wip/2.prokka.smk \\\n",
    "--config pang_org=\"Sodaliphilus sp004557565\" pang_folder=\"sodaliphilus_sp004557565\" -n\n",
    "--config pang_org=\"Lactobacillus amylovorus\" pang_folder=\"l_amylovorus\" -n"
   ]
  },
  {
   "cell_type": "code",
   "execution_count": null,
   "id": "91688e5f",
   "metadata": {
    "vscode": {
     "languageId": "shellscript"
    }
   },
   "outputs": [],
   "source": [
    "# for species that are not in gtdb\n",
    "snakemake --use-conda --resources mem_mb=80000 --rerun-triggers mtime \\\n",
    "-c 32 --rerun-incomplete -k -s  snakefile_wip/2.prokka_noref.smk --config\n",
    "pang_folder=\"VUNA01_sp002299625\" -n\n",
    "pang_folder=\"dysos_sp004558115\" -n\n",
    "\n",
    "pang_folder=\"crypto_sp004552115\" -n\n"
   ]
  },
  {
   "cell_type": "code",
   "execution_count": null,
   "id": "77f4bdc2",
   "metadata": {
    "vscode": {
     "languageId": "shellscript"
    }
   },
   "outputs": [],
   "source": [
    "snakemake --use-conda --resources mem_mb=80000 --rerun-triggers mtime \\\n",
    "-c 32 --rerun-incomplete -k -s  snakefile_wip/4a.roary.smk \\\n",
    "--config pang_org=\"Limosilactobacillus reuteri\" pang_folder=\"l_reuteri\" -n\n",
    "\n",
    "\n",
    "# 4a. Run roary snakemake with no drep\n",
    "snakemake --use-conda --resources mem_mb=80000 --rerun-triggers mtime \\\n",
    "-c 32 --rerun-incomplete -k -s  snakefile_wip/4a.roary.smk "
   ]
  },
  {
   "cell_type": "code",
   "execution_count": null,
   "id": "b76e0744",
   "metadata": {
    "vscode": {
     "languageId": "shellscript"
    }
   },
   "outputs": [],
   "source": [
    "# 5. Run genes to hashes (add shell as well), no cloud for reference strains??\n",
    "snakemake --use-conda --resources mem_mb=120000 --rerun-triggers mtime \\\n",
    "-c 30 --rerun-incomplete -k -s  snakefile_wip/5.genes_to_hash.smk "
   ]
  },
  {
   "cell_type": "code",
   "execution_count": null,
   "id": "05bad84c",
   "metadata": {
    "vscode": {
     "languageId": "shellscript"
    }
   },
   "outputs": [],
   "source": [
    "# 6. Convert the fasta files to hashes, and predict proteins for hashes\n",
    "snakemake --use-conda --resources mem_mb=40000 --rerun-triggers mtime \\\n",
    "-c 4 --rerun-incomplete -k -s  snakefile_wip/6.genes_torankt.smk \n",
    "\n"
   ]
  },
  {
   "cell_type": "code",
   "execution_count": null,
   "id": "c3793e7c",
   "metadata": {
    "vscode": {
     "languageId": "shellscript"
    }
   },
   "outputs": [],
   "source": [
    "# 7. Run against the metagenomes\n",
    "snakemake --use-conda --resources mem_mb=120000 --rerun-triggers mtime \\\n",
    "-c 20 --rerun-incomplete -k -s  7.compare_pang_to_metag.smk "
   ]
  },
  {
   "cell_type": "code",
   "execution_count": null,
   "id": "f42b47e8",
   "metadata": {
    "vscode": {
     "languageId": "shellscript"
    }
   },
   "outputs": [],
   "source": [
    "# Want for each hash (only pig) in how many metags\n",
    "# calc hash presence stays the same: Bc we want that dmp file\n",
    "# then diff script for converting the dmp file to a csv: parse-dmp.singular.py\n",
    "\n",
    "# in hash_calc_pig.smk\n",
    "snakemake --use-conda --resources mem_mb=80000 --rerun-triggers mtime \\\n",
    "-c 8 --rerun-incomplete -k -s snakefile_wip/hash_calc_pig.smk -n"
   ]
  },
  {
   "cell_type": "code",
   "execution_count": null,
   "id": "556ac550",
   "metadata": {
    "vscode": {
     "languageId": "shellscript"
    }
   },
   "outputs": [],
   "source": []
  },
  {
   "cell_type": "markdown",
   "id": "0215f0c0",
   "metadata": {},
   "source": []
  }
 ],
 "metadata": {
  "language_info": {
   "name": "python"
  }
 },
 "nbformat": 4,
 "nbformat_minor": 5
}
