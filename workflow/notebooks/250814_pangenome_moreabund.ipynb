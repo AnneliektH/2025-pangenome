{
 "cells": [
  {
   "cell_type": "markdown",
   "id": "7e196ad8",
   "metadata": {},
   "source": [
    "## Selected a couple of species that are more abundant when using own MAGs. \n",
    "Compare the pangenome (and number of new strains) for species of interest\n",
    "\n",
    "\n",
    "How do I give the snakefile a list of species and out folders?\n",
    "Can I give it a dict?"
   ]
  },
  {
   "cell_type": "code",
   "execution_count": null,
   "id": "a8d8b562",
   "metadata": {
    "vscode": {
     "languageId": "plaintext"
    }
   },
   "outputs": [],
   "source": [
    "# srun\n",
    "srun --account=ctbrowngrp -p high2 -J pan -t 2:00:00 -c 2 --mem=20gb --pty bash\n",
    "mamba activate branchwater-skipmer\n",
    "\n",
    "srun --account=ctbrowngrp -p bmm -J pan -t 1:00:00 -c 32 --mem=60gb --pty bash\n",
    "srun --account=ctbrowngrp -p med2 -J panr -t 3:00:00 -c 32 --mem=60gb --pty bash\n",
    "\n",
    "\n",
    "\n"
   ]
  },
  {
   "cell_type": "markdown",
   "id": "57944f6d",
   "metadata": {},
   "source": [
    "# do some retries and a couple of genomes at a time for gbsketch\n",
    "\n",
    "mamba activate branchwater-skipmer\n",
    "mamba activate branchwater-skipmer\n",
    "snakemake --use-conda --resources mem_mb=60000 --rerun-triggers mtime \\\n",
    "-c 32 --rerun-incomplete -k -n\n",
    "snakemake --use-conda --resources mem_mb=60000 --rerun-triggers mtime \\\n",
    "-c 32 --rerun-incomplete -k -n\n",
    "\n",
    "\n",
    "\n"
   ]
  },
  {
   "cell_type": "code",
   "execution_count": null,
   "id": "09bb3551",
   "metadata": {
    "vscode": {
     "languageId": "plaintext"
    }
   },
   "outputs": [],
   "source": [
    "# would also like to make trees for other species. \n"
   ]
  },
  {
   "cell_type": "code",
   "execution_count": null,
   "id": "a7080802",
   "metadata": {
    "vscode": {
     "languageId": "powershell"
    }
   },
   "outputs": [],
   "source": [
    "## resutl in results/gtdb_tree_test/\n",
    "## How about a phylogenentic tree. Idk if Catenibacterium speces are the same, so make a tree. \n",
    "## Use gtdbkt \n",
    "# https://ecogenomics.github.io/GTDBTk/commands/de_novo_wf.html\n",
    "\n",
    "## NEed an outgroup taxon: \n",
    "--outgroup_taxon p__Verrucomicrobiota\n",
    "--skip_gtdb_refs\n",
    "\n",
    "\n",
    "srun --account=ctbrowngrp -p bmm -J pan -t 5:00:00 -c 32 --mem=60gb --pty bash\n",
    "\n",
    "mamba activate gtdbtk\n",
    "\n",
    "gtdbtk de_novo_wf --genome_dir ./genomes \\\n",
    "--bacteria \\\n",
    "-x fasta \\\n",
    "--outgroup_taxon p__Verrucomicrobiota \\\n",
    "--out_dir ./ \\\n",
    "--cpus 32\n",
    "\n",
    "\n"
   ]
  }
 ],
 "metadata": {
  "language_info": {
   "name": "python"
  }
 },
 "nbformat": 4,
 "nbformat_minor": 5
}
