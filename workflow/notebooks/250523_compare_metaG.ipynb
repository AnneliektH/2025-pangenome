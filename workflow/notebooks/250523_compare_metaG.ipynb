{
 "cells": [
  {
   "cell_type": "markdown",
   "id": "944256b2",
   "metadata": {},
   "source": [
    "### Comparing pangenome sketches with metagenomes:\n",
    "Why: We can look from a microbial genome perspective, and see what genes are in multiple strains of the microbe. But, there may be different strains if different host species (likely), and therefore, genes that are considered core or cloud in the species, may not appear in a certain type of metagenome. \n",
    "We see in DNA space, that the core hashes (defined by Roary) are different in different metagenome types (hosts). But in protein, this effect may be reduced, because codons. \n",
    "\n",
    "#### Checking before building snakefile:\n",
    "- One microbial species (m elsedenii), for now only ref strains \n",
    "- 10 human and 10 pig metagenomes\n",
    "- use a cloud and a core sketch\n",
    "- translate these to protein as well, and compare in protein space\n",
    "\n"
   ]
  },
  {
   "cell_type": "markdown",
   "id": "5d7245c5",
   "metadata": {},
   "source": [
    "### Species present in multiple samples:\n",
    "- Gemmiger qucibialis (18)\n",
    "- Prevotella copri (17)"
   ]
  },
  {
   "cell_type": "code",
   "execution_count": null,
   "id": "88856d77",
   "metadata": {
    "vscode": {
     "languageId": "shellscript"
    }
   },
   "outputs": [],
   "source": []
  },
  {
   "cell_type": "code",
   "execution_count": null,
   "id": "e5c27f4c",
   "metadata": {
    "vscode": {
     "languageId": "shellscript"
    }
   },
   "outputs": [],
   "source": [
    "# ruun gather before pangenome bc need species that is in multiple metag\n",
    "# run gather.smk\n",
    "srun --account=ctbrowngrp -p med2 -J gather -t 2:00:00 -c 20 --mem=120gb --pty bash\n",
    "mamba activate branchwater-skipmer\n",
    "\n",
    "snakemake --use-conda --resources mem_mb=120000 --rerun-triggers mtime \\\n",
    "-c 20 --rerun-incomplete -k -s rules/gather.smk -n"
   ]
  },
  {
   "cell_type": "code",
   "execution_count": null,
   "metadata": {
    "vscode": {
     "languageId": "shellscript"
    }
   },
   "outputs": [],
   "source": [
    "# ruun gather before pangenome bc need species that is in multiple metag\n",
    "# run gather.smk\n",
    "srun --account=ctbrowngrp -p med2 -J gather -t 5:00:00 -c 60 --mem=120gb --pty bash\n",
    "mamba activate branchwater-skipmer\n",
    "\n",
    "snakemake --use-conda --resources mem_mb=120000 --rerun-triggers mtime \\\n",
    "-c 50 --rerun-incomplete -k -s rules/gather.smk -n\n",
    "\n",
    "# do gather tables\n",
    "mamba activate pangenomics_dev\n",
    "#species level db\n",
    "/home/baumlerc/dissertation-project/fastgather-test/query_dbs/gtdb-rs220-k31.species.zip\n",
    "\n",
    "sourmash scripts gather_tables \\\n",
    "*.mag*.csv \\\n",
    "-p -f sparse \\\n",
    "-o 250603_gather.magsforpang.csv "
   ]
  },
  {
   "cell_type": "code",
   "execution_count": null,
   "id": "f644cab6",
   "metadata": {
    "vscode": {
     "languageId": "shellscript"
    }
   },
   "outputs": [],
   "source": [
    "# download metaGs and sketch\n",
    "# need to download SRA files and sketch them translated, bc would like to compare in protein space.\n",
    "see download_sketch_reads.smk\n",
    "\n",
    "srun --account=ctbrowngrp -p med2 -J sketch -t 2:00:00 -c 20 --mem=80gb --pty bash\n",
    "mamba activate branchwater-skipmer\n",
    "\n",
    "snakemake --use-conda --resources mem_mb=80000 --rerun-triggers mtime \\\n",
    "-c 20 --rerun-incomplete -k -s download_sketch_reads.smk -n\n",
    "\n",
    "\n",
    "srun --account=ctbrowngrp -p med2 -J sketch -t 2:00:00 -c 8 --mem=80gb --pty bash\n",
    "mamba activate branchwater-skipmer\n",
    "\n",
    "snakemake --use-conda --resources mem_mb=80000 --rerun-triggers mtime \\\n",
    "-c 8 --rerun-incomplete -k -s compare_metag.smk -n\n"
   ]
  },
  {
   "cell_type": "code",
   "execution_count": null,
   "id": "eba1d1ef",
   "metadata": {
    "vscode": {
     "languageId": "shellscript"
    }
   },
   "outputs": [],
   "source": [
    "\n",
    "srun --account=ctbrowngrp -p med2 -J sketch -t 2:00:00 -c 1 --mem=80gb --pty bash\n",
    "mamba activate branchwater-skipmer\n",
    "\n",
    "# first with the DNA ones\n",
    "sourmash sig overlap \\\n",
    "/group/ctbrowngrp2/amhorst/2025-pangenome/results/test_pipeline/l_amylovorus/sourmash/l_amylovorus.core.all.zip \\\n",
    "/group/ctbrowngrp/irber/data/wort-data/wort-sra/sigs/ERR1135371.sig \\\n",
    "-k 21\n",
    "\n",
    "# do sig overlap with the metaGs (pangenome sketch and normal sketch)\n",
    "sourmash sig overlap \\\n",
    "/group/ctbrowngrp2/amhorst/2025-pangenome/results/test_pipeline/l_amylovorus/sourmash/l_amylovorus.core.tr.all.zip \\\n",
    "/group/ctbrowngrp2/amhorst/2025-pangenome/results/metag_signatures/ERR1135371.tr.zip \\\n",
    "-k 10 --protein \n",
    "\n",
    "\n",
    "\n",
    "# compare with a protein sketch\n",
    "sourmash sketch protein core.faa -p k=10,scaled=500 -o ../sourmash/core.all.prot.zip\n",
    "\n",
    "\n",
    "sourmash sig overlap core.all.prot.zip \\\n",
    "/group/ctbrowngrp2/amhorst/2025-pangenome/results/metag_signatures/SRR10499417.zip \\\n",
    "-k 10 --protein "
   ]
  },
  {
   "cell_type": "code",
   "execution_count": null,
   "id": "8f71ab60",
   "metadata": {
    "vscode": {
     "languageId": "shellscript"
    }
   },
   "outputs": [],
   "source": [
    "# sketch in DNA as well and compare to metaGs. \n",
    "\n",
    "# sketch and pangenome it\n",
    "mamba activate branchwater-skipmer\n",
    "sourmash sketch dna m_elsdenii.cloud.fa -o m_elsdenii.cloud.k21.zip -p k=21,scaled=1000 \n",
    "\n",
    "# try pangenome merge and ranktable (m2n3, k21, s50)\n",
    "sourmash scripts pangenome_merge m_elsdenii.cloud.k21.zip -k 21  \\\n",
    "-o m_elsdenii.cloud.pang.k21.zip --scaled 1000\n",
    "\n",
    "sourmash scripts pangenome_ranktable \\\n",
    "m_elsdenii.cloud.pang.k21.zip -o m_elsdenii.cloud.k21.rank.csv \\\n",
    "-k 21 --scaled 1000 \n",
    "\n",
    "\n",
    "# same for core\n",
    "sourmash sketch dna m_elsdenii.core.fa -o m_elsdenii.core.k21.zip -p k=21,scaled=1000,abund\n",
    "# try pangenome merge and ranktable (m2n3, k21, s50)\n",
    "sourmash scripts pangenome_merge m_elsdenii.core.k21.zip -k 21  \\\n",
    "-o m_elsdenii.core.pang.k21.zip --scaled 1000 \n",
    "\n",
    "sourmash scripts pangenome_ranktable \\\n",
    "m_elsdenii.core.k21.zip -o m_elsdenii.core.k21.rank.csv \\\n",
    "-k 21 --scaled 1000 \n",
    "\n",
    "\n",
    "\n"
   ]
  },
  {
   "cell_type": "code",
   "execution_count": null,
   "id": "eedcf165",
   "metadata": {
    "vscode": {
     "languageId": "shellscript"
    }
   },
   "outputs": [],
   "source": [
    "## Now make traslated and protein ranktables:\n",
    "## Difference is that protein is from prokka predicted protein, translate is from translated CDS\n",
    "# How would I fit this in  a snakemake? Well doesbt matter? I can make list [core, cloud]\n",
    "# translated:\n",
    "m_elsdenii.core.tr.k10.zip\n",
    "m_elsdenii.cloud.tr.k10.zip\n",
    "\n",
    "# pang ranktables: (change colname for one)\n",
    "sourmash scripts pangenome_merge m_elsdenii.core.tr.k10.zip --protein -k 10 --scaled 500 \\\n",
    "-o m_elsdenii.core.tr.k10.pang.zip --no-dna\n",
    "sourmash scripts pangenome_ranktable \\\n",
    "m_elsdenii.core.tr.k10.pang.zip -o m_elsdenii.core.tr.k10.rank.csv \\\n",
    "-k 10 --scaled 500 --protein --no-dna\n",
    "\n",
    "\n",
    "sourmash scripts pangenome_merge m_elsdenii.cloud.tr.k10.zip --protein -k 10 --scaled 500 \\\n",
    "-o m_elsdenii.cloud.tr.k10.pang.zip --no-dna\n",
    "sourmash scripts pangenome_ranktable \\\n",
    "m_elsdenii.cloud.tr.k10.pang.zip -o m_elsdenii.cloud.tr.k10.rank.csv \\\n",
    "-k 10 --scaled 500 --protein --no-dna\n",
    "\n",
    "\n",
    "# prokka protein:\n",
    "sourmash scripts pangenome_merge core_genes/core.prot.zip --protein -k 10 --scaled 500 \\\n",
    "-o m_elsdenii.core.prot.k10.pang.zip --no-dna\n",
    "sourmash scripts pangenome_ranktable \\\n",
    "m_elsdenii.core.prot.k10.pang.zip -o m_elsdenii.core.prot.k10.rank.csv \\\n",
    "-k 10 --scaled 500 --protein --no-dna\n",
    "\n",
    "sourmash scripts pangenome_merge cloud_genes/cloud.prot.zip --protein -k 10 --scaled 500 \\\n",
    "-o m_elsdenii.cloud.prot.k10.pang.zip --no-dna\n",
    "sourmash scripts pangenome_ranktable \\\n",
    "m_elsdenii.cloud.prot.k10.pang.zip -o m_elsdenii.cloud.prot.k10.rank.csv \\\n",
    "-k 10 --scaled 500 --protein --no-dna\n",
    "\n",
    "# \n"
   ]
  },
  {
   "cell_type": "code",
   "execution_count": null,
   "id": "eb9acf8e",
   "metadata": {
    "vscode": {
     "languageId": "shellscript"
    }
   },
   "outputs": [],
   "source": []
  },
  {
   "cell_type": "code",
   "execution_count": null,
   "id": "0ee851af",
   "metadata": {
    "vscode": {
     "languageId": "shellscript"
    }
   },
   "outputs": [],
   "source": [
    "python ../../../workflow/scripts/calc-hash-presence.py \\\n",
    "m_elsdenii.core.k21.rank.csv pig_sra.txt --scaled=1000 -k 21 -o pig.x.core.dna.dmp\n",
    "\n",
    "python ../../../workflow/scripts/calc-hash-presence.py \\\n",
    "m_elsdenii.core.k21.rank.csv human_sra.txt --scaled=1000 -k 21 -o human.x.core.dna.dmp\n",
    "\n",
    "python ../../../workflow/scripts/calc-hash-presence.py \\\n",
    "m_elsdenii.cloud.k21.rank.csv pig_sra.txt --scaled=1000 -k 21 -o pig.x.cloud.dna.dmp\n",
    "\n",
    "python ../../../workflow/scripts/calc-hash-presence.py \\\n",
    "m_elsdenii.cloud.k21.rank.csv human_sra.txt --scaled=1000 -k 21 -o human.x.cloud.dna.dmp"
   ]
  },
  {
   "cell_type": "code",
   "execution_count": null,
   "id": "fc74110a",
   "metadata": {
    "vscode": {
     "languageId": "shellscript"
    }
   },
   "outputs": [],
   "source": [
    "# worst way possible \n",
    "python ../../../workflow/scripts/calc-hash-presence.py \\\n",
    "m_elsdenii.core.prot.k10.rank.csv pig_sra_prot.txt --scaled=500 --protein --no-dna -k 10 -o pig.x.core.prot.dmp\n",
    "\n",
    "python ../../../workflow/scripts/calc-hash-presence.py \\\n",
    "m_elsdenii.core.prot.k10.rank.csv human_sra_prot.txt --scaled=500 --protein --no-dna -k 10 -o human.x.core.prot.dmp\n",
    "\n",
    "python ../../../workflow/scripts/calc-hash-presence.py \\\n",
    "m_elsdenii.cloud.prot.k10.rank.csv pig_sra_prot.txt --scaled=500 --protein --no-dna -k 10 -o pig.x.cloud.prot.dmp\n",
    "\n",
    "python ../../../workflow/scripts/calc-hash-presence.py \\\n",
    "m_elsdenii.cloud.prot.k10.rank.csv human_sra_prot.txt --scaled=500 --protein --no-dna -k 10 -o human.x.cloud.prot.dmp\n",
    "\n",
    "\n",
    "python ../../../workflow/scripts/calc-hash-presence.py \\\n",
    "m_elsdenii.core.tr.k10.rank.csv pig_sra_prot.txt --scaled=500 --protein --no-dna -k 10 -o pig.x.core.tr.dmp\n",
    "\n",
    "python ../../../workflow/scripts/calc-hash-presence.py \\\n",
    "m_elsdenii.core.tr.k10.rank.csv human_sra_prot.txt --scaled=500 --protein --no-dna -k 10 -o human.x.core.tr.dmp\n",
    "\n",
    "python ../../../workflow/scripts/calc-hash-presence.py \\\n",
    "m_elsdenii.cloud.tr.k10.rank.csv pig_sra_prot.txt --scaled=500 --protein --no-dna -k 10 -o pig.x.cloud.tr.dmp\n",
    "\n",
    "python ../../../workflow/scripts/calc-hash-presence.py \\\n",
    "m_elsdenii.cloud.tr.k10.rank.csv human_sra_prot.txt --scaled=500 --protein --no-dna -k 10 -o human.x.cloud.tr.dmp"
   ]
  },
  {
   "cell_type": "code",
   "execution_count": null,
   "id": "1d593efd",
   "metadata": {
    "vscode": {
     "languageId": "shellscript"
    }
   },
   "outputs": [],
   "source": []
  },
  {
   "cell_type": "code",
   "execution_count": null,
   "id": "300036d9",
   "metadata": {
    "vscode": {
     "languageId": "shellscript"
    }
   },
   "outputs": [],
   "source": [
    "python ../../../workflow/scripts/parse-dump.py \\\n",
    "--dump-files-1 human.x.core.dna.dmp \\\n",
    "--dump-files-2 pig.x.core.dna.dmp > cmp_core.dna.csv\n",
    "\n",
    "python ../../../workflow/scripts/parse-dump.py \\\n",
    "--dump-files-1 human.x.core.tr.dmp \\\n",
    "--dump-files-2 pig.x.core.tr.dmp > cmp_core.tr.csv\n",
    "\n",
    "\n",
    "python ../../../workflow/scripts/parse-dump.py \\\n",
    "--dump-files-1 human.x.cloud.tr.dmp \\\n",
    "--dump-files-2 pig.x.cloud.tr.dmp > cmp_cloud.tr.csv"
   ]
  },
  {
   "cell_type": "code",
   "execution_count": null,
   "id": "8d075f85",
   "metadata": {
    "vscode": {
     "languageId": "shellscript"
    }
   },
   "outputs": [],
   "source": [
    "python ../../../workflow/scripts/calc-hash-presence.py \\\n",
    "m_elsdenii.core.k21.rank.csv pig_sra.txt --scaled=1000 -k 21 -o pig.x.core.dna.dmp\n",
    "\n",
    "python ../../../workflow/scripts/calc-hash-presence.py \\\n",
    "m_elsdenii.core.k21.rank.csv human_sra.txt --scaled=1000 -k 21 -o human.x.core.dna.dmp\n",
    "\n",
    "python ../../../workflow/scripts/calc-hash-presence.py \\\n",
    "m_elsdenii.cloud.k21.rank.csv pig_sra.txt --scaled=1000 -k 21 -o pig.x.cloud.dna.dmp\n",
    "\n",
    "python ../../../workflow/scripts/calc-hash-presence.py \\\n",
    "m_elsdenii.cloud.k21.rank.csv human_sra.txt --scaled=1000 -k 21 -o human.x.cloud.dna.dmp"
   ]
  }
 ],
 "metadata": {
  "language_info": {
   "name": "python"
  }
 },
 "nbformat": 4,
 "nbformat_minor": 5
}
