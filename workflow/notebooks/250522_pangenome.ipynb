{
 "cells": [
  {
   "cell_type": "markdown",
   "id": "c33fc90a",
   "metadata": {},
   "source": [
    "## Redo pangenome stuff with new sourmash pangenome plugin. \n",
    "- Clean up this repo\n",
    "- try pangenome in protein space using translated sketches (use 10 v 10 now)\n",
    "- need to deduplicate the genomes at 99% ANI, then run Roary\n",
    "- Use roary, then sourmash"
   ]
  },
  {
   "cell_type": "code",
   "execution_count": null,
   "id": "9c5525b3",
   "metadata": {
    "vscode": {
     "languageId": "shellscript"
    }
   },
   "outputs": [],
   "source": [
    "# update plugin\n",
    "mamba activate pangenomics_dev\n",
    "\n",
    "# upgrade\n",
    "pip install --upgrade --force-reinstall git+https://github.com/dib-lab/sourmash_plugin_pangenomics.git\n"
   ]
  },
  {
   "cell_type": "markdown",
   "id": "557aec22",
   "metadata": {},
   "source": [
    "## Steps + What do we want. \n",
    "I want to be able to compare roary output with the metagenomes. I want to do this in protein space, as roary works in protein space and that seems like the right comparison. \n",
    "I also want to do it in DNA space. I'd like to find a species, that has new strains in pig, but also a reasonable amount of reference strains. \n",
    "\n",
    "### Steps:\n",
    "- Find a species\n",
    "- Download all strains from genbank/gtdb\n",
    "- dereplicate at 99% ANI\n",
    "- run prokka\n",
    "- Run roary\n",
    "- Translate 10 metaGs\n",
    "- make a cloud and a core sketch. \n",
    "- Run these against the metagenomes"
   ]
  },
  {
   "cell_type": "code",
   "execution_count": null,
   "id": "949373b2",
   "metadata": {
    "vscode": {
     "languageId": "shellscript"
    }
   },
   "outputs": [],
   "source": [
    "# where is the tax file:\n",
    "/group/ctbrowngrp2/scratch/annie/2023-swine-sra/results/MAGs/250411_mag_taxonomy.tsv"
   ]
  },
  {
   "cell_type": "code",
   "execution_count": null,
   "id": "901ad410",
   "metadata": {
    "vscode": {
     "languageId": "shellscript"
    }
   },
   "outputs": [],
   "source": [
    "# Do a test with just reference genomes. (Megasphaera elsdenii)\n",
    "mkdir test_pipeline\n",
    "\n",
    "# see Snakefile\n",
    "# how to go from 2 lists of species to a folder with all of them: For drep. \n",
    "srun --account=ctbrowngrp -p med2 -J roary -t 1:00:00 -c 10 --mem=50gb --pty bash\n",
    "mamba activate branchwater-skipmer\n",
    "\n",
    "snakemake --use-conda --resources mem_mb=50000 --rerun-triggers mtime \\\n",
    "-c 10 --rerun-incomplete -k -n"
   ]
  },
  {
   "cell_type": "code",
   "execution_count": null,
   "id": "ec44a81b",
   "metadata": {
    "vscode": {
     "languageId": "shellscript"
    }
   },
   "outputs": [],
   "source": [
    "# now all renamed to .fasta: how to run dRep?\n",
    "mamba activate dRep\n",
    "# Run dRep at 95% ANI over 85% of length of longest contigs\n",
    "dRep dereplicate ./drep --S_algorithm ANImf \\\n",
    "--ignoreGenomeQuality -l 10000 -sa 0.95 -nc 0.85 \\\n",
    "-g ./250418_viral_sequences.genomad.fa.split/*.fa -p 48"
   ]
  }
 ],
 "metadata": {
  "language_info": {
   "name": "python"
  }
 },
 "nbformat": 4,
 "nbformat_minor": 5
}
