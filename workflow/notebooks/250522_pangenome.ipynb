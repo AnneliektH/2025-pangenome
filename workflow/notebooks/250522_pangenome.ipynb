{
 "cells": [
  {
   "cell_type": "markdown",
   "id": "c33fc90a",
   "metadata": {},
   "source": [
    "## Redo pangenome stuff with new sourmash pangenome plugin. \n",
    "- Clean up this repo\n",
    "- try pangenome in protein space using translated sketches (use 10 v 10 now)\n",
    "- need to deduplicate the genomes at 99% ANI, then run Roary\n",
    "- Use roary, then sourmash"
   ]
  },
  {
   "cell_type": "code",
   "execution_count": null,
   "id": "9c5525b3",
   "metadata": {
    "vscode": {
     "languageId": "shellscript"
    }
   },
   "outputs": [],
   "source": [
    "# update plugin\n",
    "mamba activate pangenomics_dev\n",
    "\n",
    "# upgrade\n",
    "pip install --upgrade --force-reinstall git+https://github.com/dib-lab/sourmash_plugin_pangenomics.git\n"
   ]
  },
  {
   "cell_type": "markdown",
   "id": "557aec22",
   "metadata": {},
   "source": [
    "## Steps + What do we want. \n",
    "I want to be able to compare roary output with the metagenomes. I want to do this in protein space, as roary works in protein space and that seems like the right comparison. \n",
    "I also want to do it in DNA space. I'd like to find a species, that has new strains in pig, but also a reasonable amount of reference strains. \n",
    "\n",
    "### Steps:\n",
    "- Find a species\n",
    "- Download all strains from genbank/gtdb\n",
    "- dereplicate at 99% ANI\n",
    "- run prokka\n",
    "- Run roary\n",
    "- Translate 10 metaGs\n",
    "- make a cloud and a core sketch. \n",
    "- Run these against the metagenomes"
   ]
  },
  {
   "cell_type": "markdown",
   "id": "9423c025",
   "metadata": {},
   "source": [
    "Start with reference genomes, then add a pipeline for adding MAGs from pigs. \n",
    "translate metags"
   ]
  },
  {
   "cell_type": "code",
   "execution_count": null,
   "id": "949373b2",
   "metadata": {
    "vscode": {
     "languageId": "shellscript"
    }
   },
   "outputs": [],
   "source": [
    "# where is the tax file:\n",
    "/group/ctbrowngrp2/scratch/annie/2023-swine-sra/results/MAGs/250411_mag_taxonomy.tsv"
   ]
  },
  {
   "cell_type": "code",
   "execution_count": null,
   "id": "901ad410",
   "metadata": {
    "vscode": {
     "languageId": "shellscript"
    }
   },
   "outputs": [],
   "source": [
    "# Do a test with just reference genomes. (Megasphaera elsdenii)\n",
    "mkdir test_pipeline\n",
    "\n",
    "# see Snakefile\n",
    "# how to go from 2 lists of species to a folder with all of them: For drep. \n",
    "srun --account=ctbrowngrp -p med2 -J roary -t 2:00:00 -c 10 --mem=50gb --pty bash\n",
    "mamba activate branchwater-skipmer\n",
    "\n",
    "snakemake --use-conda --resources mem_mb=50000 --rerun-triggers mtime \\\n",
    "-c 10 --rerun-incomplete -k -s gather.smk -n"
   ]
  },
  {
   "cell_type": "markdown",
   "id": "50b118ff",
   "metadata": {
    "vscode": {
     "languageId": "shellscript"
    }
   },
   "source": [
    "#### Going from a collection of dereplicated genomes to a pangenome sketch (different snakefile)\n",
    "\n",
    "Want this in a separate snakefile because i cannot keep track of large snakefiles. \n",
    "This needs the following rules:\n",
    "- prokka\n",
    "- roary\n",
    "- sourmash sketch (cloud and core), in protein and dna space"
   ]
  },
  {
   "cell_type": "markdown",
   "id": "730b4d5f",
   "metadata": {},
   "source": [
    "### Running the pangenome sketch against the metagenomes\n",
    "- Download sra\n",
    "- sketch in translate (metag is in wort in DNA)"
   ]
  },
  {
   "cell_type": "code",
   "execution_count": null,
   "id": "e827c684",
   "metadata": {
    "vscode": {
     "languageId": "shellscript"
    }
   },
   "outputs": [],
   "source": [
    "# gene presence absemce file\n",
    "# how to get to those lists, then files?\n",
    "python /group/ctbrowngrp2/amhorst/2025-pangenome/workflow/scripts/count_genes.py \\\n",
    "gene_presence_absence.Rtab test.csv\n",
    "\n",
    "# gives files hard_core.txt, soft_core.txt, cloud.txt, shell.txt\n",
    "# with group numbers. Now how to get the sequence?\n",
    "# from pan_genome_reference.fa --> proteins?\n",
    "# and easiest is probs converting these sequences to AA\n",
    "mamba activate seqkit\n",
    "\n",
    "\n",
    "seqkit grep -r -n -f /group/ctbrowngrp2/amhorst/2025-pangenome/results/test_pipeline/m_elsdenii/roary/hard_core.txt \\\n",
    "/group/ctbrowngrp2/amhorst/2025-pangenome/results/test_pipeline/m_elsdenii/roary/pan_genome_reference.fa \\\n",
    "-o /group/ctbrowngrp2/amhorst/2025-pangenome/results/test_pipeline/m_elsdenii/sourmash/m_elsdenii.core.fa"
   ]
  }
 ],
 "metadata": {
  "language_info": {
   "name": "python"
  }
 },
 "nbformat": 4,
 "nbformat_minor": 5
}
