{
 "cells": [
  {
   "cell_type": "markdown",
   "id": "4d673691",
   "metadata": {},
   "source": [
    "## Hashes in shared species\n",
    "Defined 42 species, that are in > 500 human and > 500 pig gut metaGs. From these species, i want the pangenome, as described by roary. I also want to know, for each hash, how many metaGs is it in? "
   ]
  },
  {
   "cell_type": "markdown",
   "id": "8e4bfa06",
   "metadata": {},
   "source": [
    "# Lets start with:\n",
    "Gemminger qucibiales (bc already done once)\n",
    "\n"
   ]
  }
 ],
 "metadata": {
  "language_info": {
   "name": "python"
  }
 },
 "nbformat": 4,
 "nbformat_minor": 5
}
