{
 "cells": [
  {
   "cell_type": "markdown",
   "metadata": {},
   "source": [
    "### Using sourmash pangenome and compare to Roary\n",
    "Roary uses the output from Prokka, then it extracts the coding regions in nucleotide space, then translates these internally using bioperl. It does a pangenome in protein space\n",
    "\n",
    "#### Comparing Sourmash and Roary:\n",
    "- Use sourmash on protein or predicted transcript sequences, not thw whole genome\n",
    "- Use prokka output for this (ffn files (predicted transcripts, nucl), the faa files (predicted protein))\n",
    "- Scale of 1? Later slide scale [1,10,50,100,1000] and k[21,31], protein_k [15,18,21]\n",
    "- Tweak sourmash thresholds \n",
    "\n",
    "Using one bacterial species for now Lactobacillus amylovorus, because it has 90 genomes and that is a nice size. \n",
    "\n",
    "\n",
    "#### Results so far\n",
    "Cannot get protein or nucleotide results to resemble what roary tells us. Maybe try skipmers (skipm1n3 and skipm2n3), when implemented\n"
   ]
  },
  {
   "cell_type": "code",
   "execution_count": null,
   "metadata": {
    "vscode": {
     "languageId": "shellscript"
    }
   },
   "outputs": [],
   "source": [
    "# Try a couple settings, all at scale 10: \n",
    "# protein k12, k15 (dayhoff, k15,k18)\n",
    "# nucleotide k21, k31\n",
    "# translate k12,k15 (ffn)\n",
    "# in results/test_params\n",
    "\n",
    "# sourmash scripts pangenome merge for each \n"
   ]
  },
  {
   "cell_type": "code",
   "execution_count": null,
   "metadata": {
    "vscode": {
     "languageId": "shellscript"
    }
   },
   "outputs": [],
   "source": [
    "# How to get from a signature to a pangenome?\n",
    "# sourmash sig cat protein_dayhoff/*.zip -o l_amylovorus.protein_dayhoff.zip\n",
    "#sourmash sig cat transcript/*.zip -o l_amylovorus.transcript.zip\n",
    "# sourmash sig cat transcript_dayhoff/*.zip -o l_amylovorus.transcript_dayhoff.zip\n",
    "#sourmash sig cat transcript_tr/*.zip -o l_amylovorus.transcript_translate.zip"
   ]
  },
  {
   "cell_type": "code",
   "execution_count": null,
   "metadata": {
    "vscode": {
     "languageId": "shellscript"
    }
   },
   "outputs": [],
   "source": []
  },
  {
   "cell_type": "code",
   "execution_count": null,
   "metadata": {
    "vscode": {
     "languageId": "shellscript"
    }
   },
   "outputs": [],
   "source": [
    "# Results different from Roary, finds 9 core hashes, most is cloud\n",
    "# try with prot sig, use k15, s10, try k18,k21 (18 worse than 15)\n",
    "sourmash sig downsample \\\n",
    "../sourmash/protein/l_amylovorus.prot.zip -k 18 --scaled 10 \\\n",
    "--protein -o l_amylovorus.prot.18.10.zip\n",
    "\n",
    "sourmash scripts pangenome_merge l_amylovorus.prot.18.10.zip -k 18 \\\n",
    "-o l_amylovorus.pang.prot.18.zip --scaled 10 --protein --no-dna\n",
    "\n",
    "sourmash scripts pangenome_ranktable l_amylovorus.pang.prot.18.zip -o l_amylovorus.pang.prot.18.csv \\\n",
    "-k 18 --scaled 10 --protein --no-dna\n",
    "\n",
    "mamba activate branchwater\n",
    "python /group/ctbrowngrp2/amhorst/2025-pangenome/workflow/scripts/count_rank.py l_amylovorus.pang.prot.18.csv"
   ]
  },
  {
   "cell_type": "code",
   "execution_count": null,
   "metadata": {
    "vscode": {
     "languageId": "shellscript"
    }
   },
   "outputs": [],
   "source": [
    "# These results are different from Roary, finds 1 core hash, no cloud.\n",
    "# For DNA: use k21, s100 for now\n",
    "# use dev env, cause am changing the pangenome code\n",
    "mamba activate pangenomics_dev\n",
    "\n",
    "# use genomes\n",
    "sourmash sig downsample l_amylovorus.gtdb.zip -k 21 \\\n",
    "--scaled 100 -o l_amylovorus.21.100.zip\n",
    "\n",
    "# create pangenome\n",
    "sourmash scripts pangenome_merge ../sourmash/l_amylovorus.21.100.zip -k 21 \\\n",
    "-o l_amylovorus.pang.S2.zip --scaled 100\n",
    "\n",
    "# ranktable\n",
    "sourmash scripts pangenome_ranktable l_amylovorus.pang.S1.zip -o l_amylovorus.pang.S1.csv \\\n",
    "-k 21 --scaled 100\n",
    "\n",
    "# print number of hashes for each rank:\n",
    "mamba activate branchwater\n",
    "python /group/ctbrowngrp2/amhorst/2025-pangenome/workflow/scripts/count_rank.py l_amylovorus.pang.S1.csv"
   ]
  },
  {
   "cell_type": "code",
   "execution_count": null,
   "metadata": {
    "vscode": {
     "languageId": "shellscript"
    }
   },
   "outputs": [],
   "source": [
    "# Skipmers (don't work rn):\n",
    "# Use whole genome? Protein? ffn?\n",
    "mamba activate branchwater-skipmer\n",
    "\n",
    "# Would need to do manysketch\n",
    "echo name,genome_filename,protein_filename > manysketch.csv\n",
    "for i in *.fna.gz\n",
    "do\n",
    "echo $i,$i,\n",
    "done >> manysketch.csv\n",
    "\n",
    "\n",
    "# activate skipmer env\n",
    "mamba activate branchwater-skipmer\n",
    "\n",
    "# Sketch skipmer (in folder MAGs)\n",
    "sourmash scripts manysketch -p skipm2n3,k=21,k=24,k=27,scaled=50 --singleton \\\n",
    "-c 50 manysketch.csv -o ../skipmer/l_amylovorus.skipm2n3.zip\n",
    "\n",
    "# also a 1n3\n",
    "sourmash scripts manysketch -p skipm1n3,k=21,k=24,k=27,scaled=50 --singleton \\\n",
    "-c 50 manysketch.csv -o ../skipmer/l_amylovorus.skipm1n3.zip\n",
    "\n",
    "# try pangenome merge and ranktable (m2n3, k21, s50)\n",
    "sourmash scripts pangenome_merge l_amylovorus.skipm2n3.zip -k 21 --skipmer-m2n3 \\\n",
    "-o l_amylovorus.pang.skipm2n3.zip --scaled 50 --no-dna \n",
    "\n",
    "sourmash scripts pangenome_ranktable l_amylovorus.pang.prot.10.zip -o l_amylovorus.pang.prot.10.csv \\\n",
    "-k 15 --scaled 10 --protein --no-dna\n"
   ]
  },
  {
   "cell_type": "code",
   "execution_count": null,
   "metadata": {
    "vscode": {
     "languageId": "shellscript"
    }
   },
   "outputs": [],
   "source": [
    "srun --account=ctbrowngrp -p med2 -J roary -t 6:00:00 -c 10 --mem=50gb --pty bash\n",
    "\n",
    "snakemake --use-conda --resources mem_mb=50000 --rerun-triggers mtime \\\n",
    "-c 10 --rerun-incomplete -k -s pangenome_refgenomes.smk -n"
   ]
  },
  {
   "cell_type": "code",
   "execution_count": null,
   "metadata": {
    "vscode": {
     "languageId": "shellscript"
    }
   },
   "outputs": [],
   "source": [
    "# now for protein and transcripts?\n",
    "sourmash sig cat *.zip --protein -o ../l_amylovorus.prot.zip\n",
    "sourmash sig cat *.zip  -o ../l_amylovorus.fna.zip\n",
    "\n",
    "# downsample? different ksizes?? (15,18,21)\n",
    "snakemake --use-conda --resources mem_mb=50000 --rerun-triggers mtime \\\n",
    "-c 10 --rerun-incomplete -k -s pangenome_prot.smk -n\n",
    "\n",
    "# downsample protein sig\n",
    "sourmash sig downsample \\\n",
    "/group/ctbrowngrp2/amhorst/2025-pangenome/results/pangenome/l_amylovorus/sourmash/protein/l_amylovorus.prot.zip \\\n",
    "-k 21 --protein --scaled 1000 \\\n",
    "-o /group/ctbrowngrp2/amhorst/2025-pangenome/results/pangenome/l_amylovorus/sourmash/l_amylovorus.21.1000.prot.zip \n",
    "\n",
    "# pangenome merge prot sig\n",
    "sourmash scripts pangenome_merge \\\n",
    "/group/ctbrowngrp2/amhorst/2025-pangenome/results/pangenome/l_amylovorus/sourmash/l_amylovorus.21.1000.prot.zip \\\n",
    "-k 21 -o /group/ctbrowngrp2/amhorst/2025-pangenome/results/pangenome/l_amylovorus/sourmash/l_amylovorus.pang.21.1000.prot.zip \\\n",
    "--scaled 1000 --protein --no-dna \n",
    "\n",
    "\n",
    "# pangenome ranktable\n",
    "sourmash scripts pangenome_ranktable \\\n",
    "/group/ctbrowngrp2/amhorst/2025-pangenome/results/pangenome/l_amylovorus/sourmash/l_amylovorus.pang.21.1000.prot.zip \\\n",
    "-o /group/ctbrowngrp2/amhorst/2025-pangenome/results/pangenome/l_amylovorus/sourmash/l_amylovorus.rankt.21.1000.prot.csv \\\n",
    "-k 21 --scaled 1000 --protein --no-dna"
   ]
  },
  {
   "cell_type": "code",
   "execution_count": null,
   "metadata": {
    "vscode": {
     "languageId": "shellscript"
    }
   },
   "outputs": [],
   "source": [
    "# Try for protein\n",
    "sourmash sig cat *.zip --protein -o h_porci.prot.zip\n",
    "\n",
    "sourmash scripts pangenome_merge h_porci.prot.zip \\\n",
    "-k 15 --scaled 100 -o h_porci.pang.prot.zip --protein --no-dna\n",
    "\n",
    "\n",
    "sourmash scripts pangenome_merge h_porci.gtdb.zip -o h_porci.pang.21.1000.zip -k 21 --scaled 1000\n",
    "\n",
    "\n",
    "sourmash sig downsample h_porci.gtdb.zip -k 21 --scaled 100 -o h_porci.100.zip\n",
    "\n",
    "sourmash scripts pangenome_merge h_porci.100.zip -o h_porci.pang.21.100.zip -k 21 --scaled 100\n"
   ]
  },
  {
   "cell_type": "code",
   "execution_count": null,
   "metadata": {
    "vscode": {
     "languageId": "shellscript"
    }
   },
   "outputs": [],
   "source": [
    "        sourmash scripts pangenome_merge {input.sig_gtdb} -k {wildcards.ksize} \\\n",
    "        -o {output.pang} --scaled {wildcards.scaled} && \\\n",
    "        sourmash scripts pangenome_ranktable {output.pang} -o {output.rankt} \\\n",
    "        -k {wildcards.ksize} --scaled {wildcards.scaled}"
   ]
  }
 ],
 "metadata": {
  "language_info": {
   "name": "python"
  }
 },
 "nbformat": 4,
 "nbformat_minor": 2
}
