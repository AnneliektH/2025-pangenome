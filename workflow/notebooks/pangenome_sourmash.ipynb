{
 "cells": [
  {
   "cell_type": "markdown",
   "metadata": {},
   "source": [
    "### Using sourmash pangenome and compare to Roary\n",
    "Roary uses the output from Prokka, then it extracts the coding regions in nucleotide space, then translates these internally using bioperl\n",
    "\n",
    "For sourmash, to compare:\n",
    "Use the fna files (genomes), the ffn files (predicted transcripts, nucl), the faa files (predicted protein) that come from prokka. \n",
    "Use scale [1,10,50,100,1000] and k[21,31]\n",
    "Do this for 2 species:\n",
    "Lactobacillus amylovorus\n",
    "Holdemanella porci\n",
    "\n",
    "Adapt sourmash code for the thresholds Roary uses"
   ]
  },
  {
   "cell_type": "markdown",
   "metadata": {},
   "source": [
    "srun --account=ctbrowngrp -p med2 -J roary -t 6:00:00 -c 10 --mem=50gb --pty bash\n",
    "\n",
    "snakemake --use-conda --resources mem_mb=50000 --rerun-triggers mtime \\\n",
    "-c 10 --rerun-incomplete -k -s pangenome_refgenomes.smk -n"
   ]
  }
 ],
 "metadata": {
  "language_info": {
   "name": "python"
  }
 },
 "nbformat": 4,
 "nbformat_minor": 2
}
