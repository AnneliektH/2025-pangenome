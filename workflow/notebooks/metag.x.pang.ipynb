{
 "cells": [
  {
   "cell_type": "code",
   "execution_count": null,
   "metadata": {
    "vscode": {
     "languageId": "plaintext"
    }
   },
   "outputs": [],
   "source": [
    "#use python to get core as defined by roary and then cross with metaGs\n",
    "- Used L. amylovorus but this isn't present in humans\n",
    "- Different species that is present in both?\n"
   ]
  },
  {
   "cell_type": "code",
   "execution_count": null,
   "metadata": {
    "vscode": {
     "languageId": "plaintext"
    }
   },
   "outputs": [],
   "source": [
    "/group/ctbrowngrp/sourmash-db/gtdb-rs220/gtdb-rs220.lineages.csv\n",
    "/group/ctbrowngrp2/scratch/annie/2024-pigparadigm/results/MAGs/taxonomy_MAGs.forsmash.csv\n",
    "\n",
    "# Gemmiger qucibialis"
   ]
  },
  {
   "cell_type": "code",
   "execution_count": null,
   "metadata": {
    "vscode": {
     "languageId": "shellscript"
    }
   },
   "outputs": [],
   "source": [
    "# get lists of genes\n",
    "python /group/ctbrowngrp2/amhorst/2025-pangenome/workflow/scripts/count_genes.py \\\n",
    "gene_presence_absence.Rtab\n",
    "\n",
    "# clean fasta file headers\n",
    "mamba activate seqtk\n",
    "seqtk seq -A pan_genome_reference.fa | sed 's/^>\\([^ ]*\\) \\(.*\\)/>\\2/' > pan_genome_reference.clean.fa\n",
    "\n",
    "# get cloud/core from fasta\n",
    "mamba activate bbmap\n",
    "filterbyname.sh in=pan_genome_reference.clean.fa \\\n",
    "out=cloud.fa names=cloud.txt include=t substring=f\n",
    "\n",
    "filterbyname.sh in=pan_genome_reference.clean.fa \\\n",
    "out=hard_core.fa names=hard_core.txt include=t substring=f"
   ]
  },
  {
   "cell_type": "code",
   "execution_count": null,
   "metadata": {
    "vscode": {
     "languageId": "shellscript"
    }
   },
   "outputs": [],
   "source": [
    "# sketch and pangenome it\n",
    "mamba activate branchwater-skipmer\n",
    "sourmash sketch dna cloud.fa -o cloud.zip -p k=21,scaled=100 \n",
    "\n",
    "# try pangenome merge and ranktable (m2n3, k21, s50)\n",
    "sourmash scripts pangenome_merge cloud.zip -k 21  \\\n",
    "-o cloud.pang.zip --scaled 100 \n",
    "\n",
    "sourmash scripts pangenome_ranktable \\\n",
    "cloud.pang.zip -o cloud.rank.csv \\\n",
    "-k 21 --scaled 100 \n",
    "\n",
    "sourmash sketch dna hard_core.fa -o hard_core.zip -p k=21,scaled=100 \n",
    "# try pangenome merge and ranktable (m2n3, k21, s50)\n",
    "sourmash scripts pangenome_merge hard_core.zip -k 21  \\\n",
    "-o hard_core.pang.zip --scaled 100 \n",
    "sourmash scripts pangenome_ranktable \\\n",
    "hard_core.pang.zip -o hard_core.rank.csv \\\n",
    "-k 21 --scaled 100 "
   ]
  },
  {
   "cell_type": "code",
   "execution_count": null,
   "metadata": {
    "vscode": {
     "languageId": "shellscript"
    }
   },
   "outputs": [],
   "source": [
    "# snakemake x metags\n",
    "srun --account=ctbrowngrp -p med2 -J roary -t 1:00:00 -c 10 --mem=50gb --pty bash\n",
    "\n",
    "snakemake --use-conda --resources mem_mb=50000 --rerun-triggers mtime \\\n",
    "-c 3 --rerun-incomplete -k -s metag_pang.smk -n"
   ]
  },
  {
   "cell_type": "code",
   "execution_count": null,
   "metadata": {
    "vscode": {
     "languageId": "shellscript"
    }
   },
   "outputs": [],
   "source": [
    "## G Quci\n",
    "# 130 ref genomes\n",
    "# 44 new genomes\n",
    "roary -p 15 -f roary_gtdb \\\n",
    "-e -n -v gff_gtdb/*.gff \n",
    "\n",
    "\n",
    "roary -p 18 -f roary_pig \\\n",
    "-e -n -v gff_pig/*.gff "
   ]
  }
 ],
 "metadata": {
  "language_info": {
   "name": "python"
  }
 },
 "nbformat": 4,
 "nbformat_minor": 2
}
